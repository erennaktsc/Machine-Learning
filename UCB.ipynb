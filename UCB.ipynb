{
 "cells": [
  {
   "cell_type": "code",
   "execution_count": 9,
   "id": "e132be28",
   "metadata": {},
   "outputs": [],
   "source": [
    "import numpy as np\n",
    "import pandas as pd\n",
    "import matplotlib.pyplot as plt\n",
    "import seaborn as sns\n",
    "import math"
   ]
  },
  {
   "cell_type": "code",
   "execution_count": 10,
   "id": "40349db0",
   "metadata": {},
   "outputs": [],
   "source": [
    "veriler = pd.read_csv('Ads_CTR_Optimisation.csv')"
   ]
  },
  {
   "cell_type": "code",
   "execution_count": 11,
   "id": "61d46429",
   "metadata": {},
   "outputs": [],
   "source": [
    "tiklama_kullanici  = 10000 #N\n",
    "reklam_sayisi = 10 #d"
   ]
  },
  {
   "cell_type": "code",
   "execution_count": 12,
   "id": "6685a2a5",
   "metadata": {},
   "outputs": [],
   "source": [
    "oduller = [0] * reklam_sayisi\n",
    "tiklamalar = [0] * reklam_sayisi\n",
    "toplam_odul = 0\n",
    "secilenler = []"
   ]
  },
  {
   "cell_type": "code",
   "execution_count": 14,
   "id": "1e42f7d1",
   "metadata": {},
   "outputs": [
    {
     "name": "stdout",
     "output_type": "stream",
     "text": [
      "Toplam Ödül : \n",
      "1702\n"
     ]
    },
    {
     "data": {
      "image/png": "[encoded data removed]",
      "text/plain": [
       "<Figure size 640x480 with 1 Axes>"
      ]
     },
     "metadata": {},
     "output_type": "display_data"
    }
   ],
   "source": [
    "for n in range(1 , tiklama_kullanici):\n",
    "    ad = 0\n",
    "    max_ucb = 0\n",
    "\n",
    "    for i in range(0,reklam_sayisi):\n",
    "        if tiklamalar[i] > 0 :\n",
    "            ortalama = oduller[i] / tiklamalar[i]\n",
    "            delta = math.sqrt(3/2 * math.log(n) / tiklamalar[i])\n",
    "            ucb = ortalama + delta\n",
    "        else:\n",
    "            ucb = tiklama_kullanici*10\n",
    "        \n",
    "        if max_ucb < ucb:\n",
    "            max_ucb = ucb\n",
    "            id = i\n",
    "\n",
    "    secilenler.append(ad)\n",
    "    tiklamalar[ad] = tiklamalar[ad] + 1\n",
    "    odul = veriler.values[n , ad]\n",
    "    oduller[ad] = oduller[ad] + odul\n",
    "    toplam_odul = toplam_odul + odul\n",
    "\n",
    "print('Toplam Ödül : ')\n",
    "print(toplam_odul)\n",
    "\n",
    "plt.hist(secilenler)\n",
    "plt.show()"
   ]
  },
  {
   "cell_type": "code",
   "execution_count": null,
   "id": "f5d1df40",
   "metadata": {},
   "outputs": [],
   "source": []
  }
 ],
 "metadata": {
  "kernelspec": {
   "display_name": "Python 3",
   "language": "python",
   "name": "python3"
  },
  "language_info": {
   "codemirror_mode": {
    "name": "ipython",
    "version": 3
   },
   "file_extension": ".py",
   "mimetype": "text/x-python",
   "name": "python",
   "nbconvert_exporter": "python",
   "pygments_lexer": "ipython3",
   "version": "3.11.9"
  }
 },
 "nbformat": 4,
 "nbformat_minor": 5
}
